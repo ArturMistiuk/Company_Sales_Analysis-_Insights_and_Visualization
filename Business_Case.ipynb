{
 "cells": [
  {
   "cell_type": "markdown",
   "id": "d58e85ff",
   "metadata": {},
   "source": [
    "## Understanding the Categories of your Data\n",
    "\n",
    "Data can be divided into two categories, categorical (qualitative) and numerical (quantitative). These two categories can be split into two new categories, each. \n",
    "\n",
    "**Nominal Data**: Nominal data represents categories without any intrinsic ordering or ranking. It is used for labeling or naming attributes, where the numbers or labels are merely identifiers and do not imply a quantitative value or order. The focus is on \"naming\" or \"categorizing\" without an implied sequence.\n",
    "\n",
    "**Ordinal Data**: Ordinal data represents categories with a clear, inherent order, but the intervals between the categories are not necessarily equal or known. Ordinal data indicates the position or rank of items in a sequence, where the relative ordering is significant, but the exact difference between ranks is not defined.\n",
    "\n",
    "**Discrete Data**: Discrete data consists of distinct, separate values where each value can be counted. It represents countable items and often involves integers. The key aspect of discrete data is the presence of a finite number of values between any two points.\n",
    "\n",
    "**Continuous Data**: Continuous data represents measurements and can take on any value within a given range. The range can be infinite, and the values are often represented by fractions or decimals. Continuous data can be subdivided infinitely, meaning that between any two values, there are potentially infinite other values."
   ]
  },
  {
   "cell_type": "markdown",
   "id": "f069f094",
   "metadata": {},
   "source": [
    "# Exploratory Data Analysis | EDA\n",
    "\n",
    "Exploratory Data Analysis (EDA) aims to uncover underlying patterns, spot anomalies, test hypotheses, and check assumptions through a detailed examination of the dataset. By performing EDA, we mitigate the risk of misleading or inaccurate results, leading to more effective and informed decision-making in various fields, from business to scientific research.<br>\n",
    "\n",
    "\n",
    "**1. Understanding the Dataset**<br>\n",
    "Initial Data Inspection: Familiarize yourself with the dataset. What is the nature of the data? time series, categorical, continuous etc. Make sure you understand the columns, and understand their types e.g. nominal, ordinal, interval, ratio.\n",
    "<br>\n",
    "\n",
    "**2. Data Cleaning and Preprocessing (We will learn about this step later in the Bootcamp)**<br>\n",
    "Identify missing values and decide on strategies like imputation or removal.\n",
    "Data Type Conversion - Ensure that each variable is of the correct type e.g. int, float, object or datetime. Check for and remove any duplicate records.\n",
    "<br>\n",
    "\n",
    "**3. Univariate Analysis**<br>\n",
    "Categorical Data: Use bar charts to understand the distribution.\n",
    "Continuous Data: Apply histograms, box plots, or density plots to understand the distribution and identify any outliers.\n",
    "<br>\n",
    "\n",
    "**4. Bivariate/Multivariate Analysis**<br>\n",
    "Visualize correlation matrices as a heatmap  to identify relationships between numerical variables. Use scatter plots or pair plots for visualizing relationships between pairs of continuous variables.\n",
    "\n",
    "Use `groupby()` and double `groupby()` + `unstack()` for categorical variables. Visualize as `sns.barplots()` and  `sns.barplots()` with a `hue=`. Double `groupby()` + `unstack()` can be visualized as heatmaps as well.\n",
    "\n",
    "Split up continuous variables across a categorical column to visualize and compare the distributions.\n",
    "<br>\n",
    "\n"
   ]
  },
  {
   "cell_type": "markdown",
   "id": "213d59bd",
   "metadata": {},
   "source": [
    "## Familiarize yourself with the data + Heatmaps for Missing Values\n",
    "\n",
    "Heatmaps provide a visual representation that is often more intuitive and easier to understand at a glance. We can quickly identify patterns of missing data. For example, you can easily spot if missing values are randomly distributed across the dataset or concentrated in specific rows or columns. Large areas of missing data might indicate problems in data collection or processing. In numerical summaries the patterns and extents of missing data might be overlooked, but the heatmap makes them immediately apperent.\n",
    "\n",
    "\n",
    "By understanding where and how data is missing, we can make more informed decisions about appropriate methods for data imputation or whether to exclude certain data points or features."
   ]
  },
  {
   "cell_type": "markdown",
   "id": "20bf5f6f",
   "metadata": {},
   "source": [
    "## Make use of the Majestic `sns.catplot()` to quickly get insights from the data!\n",
    "\n",
    "Options include:\n",
    "\n",
    "`kind=` \"strip\", \"swarm\", \"box\", \"violin\",\n",
    "    \"boxen\", \"point\", \"bar\", or \"count\"\n",
    "    \n",
    "Play around with: `hue`, `rows`, `cols`"
   ]
  },
  {
   "cell_type": "code",
   "execution_count": null,
   "id": "f0377034",
   "metadata": {},
   "outputs": [],
   "source": []
  }
 ],
 "metadata": {
  "kernelspec": {
   "display_name": "Python 3 (ipykernel)",
   "language": "python",
   "name": "python3"
  },
  "language_info": {
   "codemirror_mode": {
    "name": "ipython",
    "version": 3
   },
   "file_extension": ".py",
   "mimetype": "text/x-python",
   "name": "python",
   "nbconvert_exporter": "python",
   "pygments_lexer": "ipython3",
   "version": "3.11.5"
  },
  "varInspector": {
   "cols": {
    "lenName": 16,
    "lenType": 16,
    "lenVar": 40
   },
   "kernels_config": {
    "python": {
     "delete_cmd_postfix": "",
     "delete_cmd_prefix": "del ",
     "library": "var_list.py",
     "varRefreshCmd": "print(var_dic_list())"
    },
    "r": {
     "delete_cmd_postfix": ") ",
     "delete_cmd_prefix": "rm(",
     "library": "var_list.r",
     "varRefreshCmd": "cat(var_dic_list()) "
    }
   },
   "types_to_exclude": [
    "module",
    "function",
    "builtin_function_or_method",
    "instance",
    "_Feature"
   ],
   "window_display": false
  }
 },
 "nbformat": 4,
 "nbformat_minor": 5
}
